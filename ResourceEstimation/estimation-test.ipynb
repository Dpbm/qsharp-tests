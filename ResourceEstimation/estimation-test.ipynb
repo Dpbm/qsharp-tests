{
 "cells": [
  {
   "cell_type": "code",
   "execution_count": 24,
   "id": "c8c5fcf0-e926-48a3-b7d6-e4b954b1e88a",
   "metadata": {},
   "outputs": [],
   "source": [
    "import qsharp\n",
    "from qsharp_widgets import SpaceChart, EstimateDetails, EstimatesOverview, EstimatesPanel, Circuit"
   ]
  },
  {
   "cell_type": "code",
   "execution_count": 21,
   "id": "724bdf26-ea23-4a73-9a96-efea9d6a19c8",
   "metadata": {},
   "outputs": [],
   "source": [
    "%%qsharp\n",
    "\n",
    "open Microsoft.Quantum.Diagnostics;\n",
    "\n",
    "operation ghz(n : Int) : Result[]{\n",
    "    use qubits = Qubit[n];\n",
    "    H(qubits[0]);\n",
    "    ApplyToEach(CNOT(qubits[0], _), qubits[1...]);\n",
    "\n",
    "    Message($\"Running GHZ with {n} qubits\");\n",
    "\n",
    "    DumpMachine();\n",
    "\n",
    "    let results = MeasureEachZ(qubits);\n",
    "    ResetAll(qubits);\n",
    "    return results;\n",
    "}\n"
   ]
  },
  {
   "cell_type": "code",
   "execution_count": 22,
   "id": "6d6083e2-4d6e-47f6-a813-4802f88bf25f",
   "metadata": {},
   "outputs": [
    {
     "data": {},
     "metadata": {},
     "output_type": "display_data"
    },
    {
     "data": {
      "application/vnd.jupyter.widget-view+json": {
       "model_id": "dcde842d815c44ff8329bf816564280a",
       "version_major": 2,
       "version_minor": 1
      },
      "text/plain": [
       "Circuit(circuit_json='{\"operations\":[{\"gate\":\"H\",\"targets\":[{\"qId\":0,\"type\":0}]},{\"gate\":\"X\",\"isControlled\":tr…"
      ]
     },
     "execution_count": 22,
     "metadata": {},
     "output_type": "execute_result"
    }
   ],
   "source": [
    "Circuit(qsharp.circuit(\"ghz(10)\"))"
   ]
  },
  {
   "cell_type": "code",
   "execution_count": 23,
   "id": "02bfbdd6-cb59-4b53-bd40-8b3aca490021",
   "metadata": {},
   "outputs": [
    {
     "data": {},
     "metadata": {},
     "output_type": "display_data"
    },
    {
     "name": "stdout",
     "output_type": "stream",
     "text": [
      "Running GHZ with 10 qubits\n",
      "STATE:\n",
      "|0000000000⟩: 0.7071+0.0000𝑖\n",
      "|1111111111⟩: 0.7071+0.0000𝑖\n"
     ]
    },
    {
     "data": {
      "text/plain": [
       "[One, One, One, One, One, One, One, One, One, One]"
      ]
     },
     "execution_count": 23,
     "metadata": {},
     "output_type": "execute_result"
    }
   ],
   "source": [
    "qsharp.eval(\"ghz(10)\")"
   ]
  },
  {
   "cell_type": "code",
   "execution_count": 27,
   "id": "12c7b565-2df0-4561-96b3-2bf5bfc48673",
   "metadata": {},
   "outputs": [
    {
     "data": {},
     "metadata": {},
     "output_type": "display_data"
    }
   ],
   "source": [
    "estimates = qsharp.estimate(\"ghz(10)\")"
   ]
  },
  {
   "cell_type": "code",
   "execution_count": 31,
   "id": "1142ff51-36fb-4262-9db8-aa040c18001e",
   "metadata": {},
   "outputs": [
    {
     "data": {
      "application/vnd.jupyter.widget-view+json": {
       "model_id": "5e3d7e6fd6af4c18b8c1180c5c835c92",
       "version_major": 2,
       "version_minor": 1
      },
      "text/plain": [
       "EstimatesPanel(estimates={'status': 'success', 'jobParams': {'qecScheme': {'name': 'surface_code', 'errorCorre…"
      ]
     },
     "execution_count": 31,
     "metadata": {},
     "output_type": "execute_result"
    }
   ],
   "source": [
    "EstimatesPanel(estimates)"
   ]
  }
 ],
 "metadata": {
  "kernelspec": {
   "display_name": "Python 3 (ipykernel)",
   "language": "python",
   "name": "python3"
  },
  "language_info": {
   "codemirror_mode": {
    "name": "ipython",
    "version": 3
   },
   "file_extension": ".py",
   "mimetype": "text/x-python",
   "name": "python",
   "nbconvert_exporter": "python",
   "pygments_lexer": "ipython3",
   "version": "3.11.9"
  }
 },
 "nbformat": 4,
 "nbformat_minor": 5
}
